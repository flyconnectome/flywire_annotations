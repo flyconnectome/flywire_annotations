{
 "cells": [
  {
   "attachments": {},
   "cell_type": "markdown",
   "metadata": {},
   "source": [
    "# Annotation counts\n",
    "In this notebook we will compile some of the numbers reported in Schlegel _et al._ (2023) straight from the data dump."
   ]
  },
  {
   "cell_type": "code",
   "execution_count": 1,
   "metadata": {},
   "outputs": [
    {
     "data": {
      "text/html": [
       "<div>\n",
       "<style scoped>\n",
       "    .dataframe tbody tr th:only-of-type {\n",
       "        vertical-align: middle;\n",
       "    }\n",
       "\n",
       "    .dataframe tbody tr th {\n",
       "        vertical-align: top;\n",
       "    }\n",
       "\n",
       "    .dataframe thead th {\n",
       "        text-align: right;\n",
       "    }\n",
       "</style>\n",
       "<table border=\"1\" class=\"dataframe\">\n",
       "  <thead>\n",
       "    <tr style=\"text-align: right;\">\n",
       "      <th></th>\n",
       "      <th>supervoxel_id</th>\n",
       "      <th>root_id</th>\n",
       "      <th>pos_x</th>\n",
       "      <th>pos_y</th>\n",
       "      <th>pos_z</th>\n",
       "      <th>soma_x</th>\n",
       "      <th>soma_y</th>\n",
       "      <th>soma_z</th>\n",
       "      <th>nucleus_id</th>\n",
       "      <th>flow</th>\n",
       "      <th>...</th>\n",
       "      <th>ito_lee_hemilineage</th>\n",
       "      <th>hartenstein_hemilineage</th>\n",
       "      <th>morphology_group</th>\n",
       "      <th>top_nt</th>\n",
       "      <th>top_nt_conf</th>\n",
       "      <th>side</th>\n",
       "      <th>nerve</th>\n",
       "      <th>vfb_id</th>\n",
       "      <th>fbbt_id</th>\n",
       "      <th>status</th>\n",
       "    </tr>\n",
       "  </thead>\n",
       "  <tbody>\n",
       "    <tr>\n",
       "      <th>0</th>\n",
       "      <td>78112261444987077</td>\n",
       "      <td>720575940628857210</td>\n",
       "      <td>109306</td>\n",
       "      <td>50491</td>\n",
       "      <td>3960</td>\n",
       "      <td>104904.0</td>\n",
       "      <td>47464.0</td>\n",
       "      <td>5461.0</td>\n",
       "      <td>2453924.0</td>\n",
       "      <td>intrinsic</td>\n",
       "      <td>...</td>\n",
       "      <td>SMPpv2_ventral</td>\n",
       "      <td>CP1_ventral</td>\n",
       "      <td>NaN</td>\n",
       "      <td>acetylcholine</td>\n",
       "      <td>0.917977</td>\n",
       "      <td>left</td>\n",
       "      <td>NaN</td>\n",
       "      <td>fw138205</td>\n",
       "      <td>FBbt_20001935</td>\n",
       "      <td>NaN</td>\n",
       "    </tr>\n",
       "    <tr>\n",
       "      <th>1</th>\n",
       "      <td>82475466912542440</td>\n",
       "      <td>720575940626838909</td>\n",
       "      <td>172029</td>\n",
       "      <td>55635</td>\n",
       "      <td>1592</td>\n",
       "      <td>177472.0</td>\n",
       "      <td>56936.0</td>\n",
       "      <td>1429.0</td>\n",
       "      <td>7393349.0</td>\n",
       "      <td>intrinsic</td>\n",
       "      <td>...</td>\n",
       "      <td>VLPl2_medial</td>\n",
       "      <td>BLAv2_medial</td>\n",
       "      <td>VLPl2_medial__0</td>\n",
       "      <td>acetylcholine</td>\n",
       "      <td>0.645442</td>\n",
       "      <td>right</td>\n",
       "      <td>NaN</td>\n",
       "      <td>fw000001</td>\n",
       "      <td>NaN</td>\n",
       "      <td>NaN</td>\n",
       "    </tr>\n",
       "    <tr>\n",
       "      <th>2</th>\n",
       "      <td>83038623024880664</td>\n",
       "      <td>720575940626046919</td>\n",
       "      <td>180632</td>\n",
       "      <td>58664</td>\n",
       "      <td>1925</td>\n",
       "      <td>180632.0</td>\n",
       "      <td>58664.0</td>\n",
       "      <td>1925.0</td>\n",
       "      <td>7415038.0</td>\n",
       "      <td>intrinsic</td>\n",
       "      <td>...</td>\n",
       "      <td>NaN</td>\n",
       "      <td>NaN</td>\n",
       "      <td>NaN</td>\n",
       "      <td>acetylcholine</td>\n",
       "      <td>0.844781</td>\n",
       "      <td>right</td>\n",
       "      <td>NaN</td>\n",
       "      <td>fw000002</td>\n",
       "      <td>FBbt_20000538</td>\n",
       "      <td>NaN</td>\n",
       "    </tr>\n",
       "    <tr>\n",
       "      <th>3</th>\n",
       "      <td>79801523353604463</td>\n",
       "      <td>720575940630311383</td>\n",
       "      <td>133800</td>\n",
       "      <td>56063</td>\n",
       "      <td>1847</td>\n",
       "      <td>180728.0</td>\n",
       "      <td>61008.0</td>\n",
       "      <td>1630.0</td>\n",
       "      <td>7415013.0</td>\n",
       "      <td>intrinsic</td>\n",
       "      <td>...</td>\n",
       "      <td>putative_primary</td>\n",
       "      <td>putative_primary</td>\n",
       "      <td>NaN</td>\n",
       "      <td>acetylcholine</td>\n",
       "      <td>0.760387</td>\n",
       "      <td>right</td>\n",
       "      <td>NaN</td>\n",
       "      <td>fw000003</td>\n",
       "      <td>FBbt_20000260</td>\n",
       "      <td>NaN</td>\n",
       "    </tr>\n",
       "    <tr>\n",
       "      <th>4</th>\n",
       "      <td>83038554439606237</td>\n",
       "      <td>720575940633370649</td>\n",
       "      <td>180496</td>\n",
       "      <td>57448</td>\n",
       "      <td>2989</td>\n",
       "      <td>180496.0</td>\n",
       "      <td>57448.0</td>\n",
       "      <td>2989.0</td>\n",
       "      <td>7415848.0</td>\n",
       "      <td>intrinsic</td>\n",
       "      <td>...</td>\n",
       "      <td>NaN</td>\n",
       "      <td>NaN</td>\n",
       "      <td>NaN</td>\n",
       "      <td>acetylcholine</td>\n",
       "      <td>0.895458</td>\n",
       "      <td>right</td>\n",
       "      <td>NaN</td>\n",
       "      <td>fw000004</td>\n",
       "      <td>FBbt_00051248</td>\n",
       "      <td>NaN</td>\n",
       "    </tr>\n",
       "  </tbody>\n",
       "</table>\n",
       "<p>5 rows × 25 columns</p>\n",
       "</div>"
      ],
      "text/plain": [
       "       supervoxel_id             root_id   pos_x  pos_y  pos_z    soma_x  \\\n",
       "0  78112261444987077  720575940628857210  109306  50491   3960  104904.0   \n",
       "1  82475466912542440  720575940626838909  172029  55635   1592  177472.0   \n",
       "2  83038623024880664  720575940626046919  180632  58664   1925  180632.0   \n",
       "3  79801523353604463  720575940630311383  133800  56063   1847  180728.0   \n",
       "4  83038554439606237  720575940633370649  180496  57448   2989  180496.0   \n",
       "\n",
       "    soma_y  soma_z  nucleus_id       flow  ... ito_lee_hemilineage  \\\n",
       "0  47464.0  5461.0   2453924.0  intrinsic  ...      SMPpv2_ventral   \n",
       "1  56936.0  1429.0   7393349.0  intrinsic  ...        VLPl2_medial   \n",
       "2  58664.0  1925.0   7415038.0  intrinsic  ...                 NaN   \n",
       "3  61008.0  1630.0   7415013.0  intrinsic  ...    putative_primary   \n",
       "4  57448.0  2989.0   7415848.0  intrinsic  ...                 NaN   \n",
       "\n",
       "  hartenstein_hemilineage morphology_group         top_nt top_nt_conf   side  \\\n",
       "0             CP1_ventral              NaN  acetylcholine    0.917977   left   \n",
       "1            BLAv2_medial  VLPl2_medial__0  acetylcholine    0.645442  right   \n",
       "2                     NaN              NaN  acetylcholine    0.844781  right   \n",
       "3        putative_primary              NaN  acetylcholine    0.760387  right   \n",
       "4                     NaN              NaN  acetylcholine    0.895458  right   \n",
       "\n",
       "  nerve    vfb_id        fbbt_id  status  \n",
       "0   NaN  fw138205  FBbt_20001935     NaN  \n",
       "1   NaN  fw000001            NaN     NaN  \n",
       "2   NaN  fw000002  FBbt_20000538     NaN  \n",
       "3   NaN  fw000003  FBbt_20000260     NaN  \n",
       "4   NaN  fw000004  FBbt_00051248     NaN  \n",
       "\n",
       "[5 rows x 25 columns]"
      ]
     },
     "execution_count": 1,
     "metadata": {},
     "output_type": "execute_result"
    }
   ],
   "source": [
    "import pandas as pd\n",
    "import numpy as np\n",
    "\n",
    "# Read the annotation dump\n",
    "annot = pd.read_csv(\n",
    "    \"../supplemental_files/Supplemental_file1_neuron_annotations.tsv\",\n",
    "    sep=\"\\t\",  # it's a tab-separated file\n",
    "    low_memory=False,  # this is just to avoid a datatype warning\n",
    ")\n",
    "annot.head()"
   ]
  },
  {
   "attachments": {},
   "cell_type": "markdown",
   "metadata": {},
   "source": [
    "Some overall stats:"
   ]
  },
  {
   "cell_type": "code",
   "execution_count": 2,
   "metadata": {},
   "outputs": [
    {
     "name": "stdout",
     "output_type": "stream",
     "text": [
      "Number of neurons:\n",
      "139,255\n"
     ]
    }
   ],
   "source": [
    "print(\"Number of neurons:\")\n",
    "print(f'{annot[(annot.super_class != \"not_a_neuron\")].shape[0]:,}')"
   ]
  },
  {
   "cell_type": "code",
   "execution_count": 3,
   "metadata": {},
   "outputs": [
    {
     "name": "stdout",
     "output_type": "stream",
     "text": [
      "A breakdown by superclass:\n",
      "optic                 77505\n",
      "central               32384\n",
      "sensory               16934\n",
      "visual_projection      8057\n",
      "ascending              2362\n",
      "descending             1303\n",
      "visual_centrifugal      524\n",
      "motor                   106\n",
      "endocrine                80\n",
      "Name: super_class, dtype: int64\n"
     ]
    }
   ],
   "source": [
    "print(\"A breakdown by superclass:\")\n",
    "print(annot.super_class.value_counts())"
   ]
  },
  {
   "cell_type": "code",
   "execution_count": 4,
   "metadata": {},
   "outputs": [
    {
     "name": "stdout",
     "output_type": "stream",
     "text": [
      "Sensory neurons in the central brain (i.e. excluding photoreceptor neurons):\n",
      "5,516\n"
     ]
    }
   ],
   "source": [
    "print(\"Sensory neurons in the central brain (i.e. excluding photoreceptor neurons):\")\n",
    "print(\n",
    "    f'{annot[(annot.super_class == \"sensory\") & (annot.cell_class != \"visual\")].shape[0]:,}'\n",
    ")"
   ]
  },
  {
   "cell_type": "code",
   "execution_count": 9,
   "metadata": {},
   "outputs": [
    {
     "name": "stdout",
     "output_type": "stream",
     "text": [
      "The number of total annotations across all neurons:\n",
      "866060\n"
     ]
    }
   ],
   "source": [
    "print(\"The number of total annotations across all neurons:\")\n",
    "print(\n",
    "    annot[\n",
    "        [\n",
    "            \"flow\",\n",
    "            \"super_class\",\n",
    "            \"cell_class\",\n",
    "            \"cell_sub_class\",\n",
    "            \"cell_type\",\n",
    "            \"hemibrain_type\",\n",
    "            \"side\",\n",
    "            \"nerve\",\n",
    "            \"ito_lee_hemilineage\",\n",
    "            \"morphology_group\",\n",
    "            \"soma_x\",  # whether a soma position has been recorded\n",
    "        ]\n",
    "    ]\n",
    "    .notnull()\n",
    "    .sum()\n",
    "    .sum()\n",
    ")"
   ]
  },
  {
   "cell_type": "code",
   "execution_count": 10,
   "metadata": {},
   "outputs": [
    {
     "name": "stdout",
     "output_type": "stream",
     "text": [
      "The number of total annotations per field:\n",
      "flow                   139255\n",
      "super_class            139255\n",
      "cell_class             107364\n",
      "cell_sub_class          16259\n",
      "cell_type              109210\n",
      "hemibrain_type          29467\n",
      "side                   139253\n",
      "nerve                    9639\n",
      "ito_lee_hemilineage     36896\n",
      "morphology_group        21355\n",
      "dtype: int64\n"
     ]
    }
   ],
   "source": [
    "print(\"The number of total annotations per field:\")\n",
    "print(\n",
    "    annot[\n",
    "        [\n",
    "            \"flow\",\n",
    "            \"super_class\",\n",
    "            \"cell_class\",\n",
    "            \"cell_sub_class\",\n",
    "            \"cell_type\",\n",
    "            \"hemibrain_type\",\n",
    "            \"side\",\n",
    "            \"nerve\",\n",
    "            \"ito_lee_hemilineage\",\n",
    "            \"morphology_group\",\n",
    "        ]\n",
    "    ]\n",
    "    .notnull()\n",
    "    .sum()\n",
    ")"
   ]
  },
  {
   "cell_type": "code",
   "execution_count": 11,
   "metadata": {},
   "outputs": [
    {
     "name": "stdout",
     "output_type": "stream",
     "text": [
      "Left vs right counts for central brain-intrinsic neurons:\n",
      "right     17163\n",
      "left      17137\n",
      "center       97 \n",
      "\n",
      "Left vs right differences for central brain-intrinsic neurons:\n",
      "26 of 34397 (0.08%)\n"
     ]
    }
   ],
   "source": [
    "# Subset to all neurons intrinsic to the central brain\n",
    "cent_int = annot[\n",
    "    annot.super_class.isin(\n",
    "        (\n",
    "            \"central\",\n",
    "            \"descending\",\n",
    "            \"motor\",\n",
    "            \"endocrine\",\n",
    "            \"visual_centrifugal\",\n",
    "        )\n",
    "    )\n",
    "    & (annot.cell_class != \"visual\")\n",
    "]\n",
    "\n",
    "print(\"Left vs right counts for central brain-intrinsic neurons:\")\n",
    "print(cent_int.side.value_counts().to_string(), \"\\n\")\n",
    "\n",
    "print(\"Left vs right differences for central brain-intrinsic neurons:\")\n",
    "lrdiff = (cent_int.side == \"right\").sum() - (cent_int.side == \"left\").sum()\n",
    "print(f\"{lrdiff} of {cent_int.shape[0]} ({lrdiff / cent_int.shape[0]:.2%})\")"
   ]
  },
  {
   "attachments": {},
   "cell_type": "markdown",
   "metadata": {},
   "source": [
    "Stats on cell types"
   ]
  },
  {
   "cell_type": "code",
   "execution_count": 12,
   "metadata": {},
   "outputs": [
    {
     "name": "stdout",
     "output_type": "stream",
     "text": [
      "Number of neurons with a type (cell- or hemibrain type):\n",
      "129,894 of 139,255 (93.3%)\n"
     ]
    }
   ],
   "source": [
    "# Add a column where we backfill cell type with hemibrain type\n",
    "# (i.e. `cell_type` is considered to be the \"final\" type)\n",
    "annot[\"type_combined\"] = annot.cell_type.fillna(annot.hemibrain_type)\n",
    "\n",
    "print(\"Number of neurons with a type (cell- or hemibrain type):\")\n",
    "print(\n",
    "    f\"{annot.type_combined.notnull().sum():,} of {annot.shape[0]:,} ({annot.type_combined.notnull().sum()/annot.shape[0]:.1%})\"\n",
    ")"
   ]
  },
  {
   "cell_type": "code",
   "execution_count": 13,
   "metadata": {},
   "outputs": [
    {
     "name": "stdout",
     "output_type": "stream",
     "text": [
      "Number of central brain neurons with a type:\n",
      "47,067 of 50,332 (93.5%)\n"
     ]
    }
   ],
   "source": [
    "# Subset to all neurons with arbour in the central brain\n",
    "cent = annot[\n",
    "    annot.super_class.isin(\n",
    "        (\n",
    "            \"central\",\n",
    "            \"descending\",\n",
    "            \"motor\",\n",
    "            \"endocrine\",\n",
    "            \"sensory\",\n",
    "            \"ascending\",\n",
    "            \"visual_projection\",\n",
    "            \"visual_centrifugal\",\n",
    "        )\n",
    "    )\n",
    "    & (\n",
    "        annot.cell_class != \"visual\"\n",
    "    )  # we included all sensory above; here we exclude visual sensory\n",
    "]\n",
    "print(\"Number of central brain neurons with a type:\")\n",
    "print(\n",
    "    f\"{cent.type_combined.notnull().sum():,} of {cent.shape[0]:,} ({cent.type_combined.notnull().sum()/cent.shape[0]:.1%})\"\n",
    ")"
   ]
  },
  {
   "cell_type": "code",
   "execution_count": 14,
   "metadata": {},
   "outputs": [
    {
     "name": "stdout",
     "output_type": "stream",
     "text": [
      "Number of central brain-intrinsic neurons with a type:\n",
      "33,817 of 34,397 (98.3%)\n"
     ]
    }
   ],
   "source": [
    "# Redefine central brain intrinsic neurons because we added a new column to the\n",
    "# original annotation table\n",
    "cent_int = annot[\n",
    "    annot.super_class.isin(\n",
    "        (\n",
    "            \"central\",\n",
    "            \"descending\",\n",
    "            \"motor\",\n",
    "            \"endocrine\",\n",
    "            \"visual_centrifugal\",\n",
    "        )\n",
    "    )\n",
    "    & (annot.cell_class != \"visual\")\n",
    "]\n",
    "\n",
    "print(\"Number of central brain-intrinsic neurons with a type:\")\n",
    "print(\n",
    "    f\"{cent_int.type_combined.notnull().sum():,} of {cent_int.shape[0]:,} ({cent_int.type_combined.notnull().sum()/cent_int.shape[0]:.1%})\"\n",
    ")"
   ]
  },
  {
   "cell_type": "code",
   "execution_count": 15,
   "metadata": {},
   "outputs": [
    {
     "name": "stdout",
     "output_type": "stream",
     "text": [
      "Total number of unique cell types:\n",
      "7,846\n"
     ]
    }
   ],
   "source": [
    "print(\"Total number of unique cell types:\")\n",
    "print(f\"{annot.type_combined.nunique():,}\")"
   ]
  },
  {
   "cell_type": "code",
   "execution_count": 16,
   "metadata": {},
   "outputs": [
    {
     "name": "stdout",
     "output_type": "stream",
     "text": [
      "Number of cell types based on three hemispheres worth of data (high confidence):\n",
      "3,884\n",
      "Number of FlyWire neurons with cell types based on three hemispheres worth of data:\n",
      "29,467\n"
     ]
    }
   ],
   "source": [
    "# How many final cell types do we have that are based on three hemispheres worth of data?\n",
    "print(\n",
    "    \"Number of cell types based on three hemispheres worth of data (high confidence):\"\n",
    ")\n",
    "print(f\"{annot[annot.hemibrain_type.notnull()].type_combined.nunique():,}\")\n",
    "\n",
    "print(\n",
    "    \"Number of FlyWire neurons with cell types based on three hemispheres worth of data:\"\n",
    ")\n",
    "print(\n",
    "    f\"{annot[annot.hemibrain_type.notnull() & annot.type_combined.notnull()].shape[0]:,}\"\n",
    ")"
   ]
  },
  {
   "cell_type": "code",
   "execution_count": 13,
   "metadata": {},
   "outputs": [
    {
     "name": "stdout",
     "output_type": "stream",
     "text": [
      "Cell types based on FlyWire + light-level data\n",
      "168\n",
      "Number of de-novo cell types based on just FlyWire left and right:\n",
      "1105\n",
      "Number of de-novo cell types based on FlyWire left + right and untyped hemibrain fragment:\n",
      "25\n"
     ]
    }
   ],
   "source": [
    "print(\"Cell types based on FlyWire + light-level data\")\n",
    "hb_matched = np.unique(\n",
    "    annot.loc[\n",
    "        annot.hemibrain_type.notnull(), [\"type_combined\", \"hemibrain_type\"]\n",
    "    ].values.flatten()\n",
    ")\n",
    "is_hb_matched = annot.hemibrain_type.isin(hb_matched) | annot.type_combined.isin(\n",
    "    hb_matched\n",
    ")\n",
    "has_cb_type = annot.cell_type.str.startswith(\"CB\", na=False)\n",
    "is_new_dn = (  # find new DNs that have no match in the hemibrain\n",
    "    (annot.super_class == \"descending\")\n",
    "    & annot.cell_type.str.contains(\"DN[a-z]e.*?\", regex=True, na=False)\n",
    "    & annot.hemibrain_type.isnull()\n",
    ")\n",
    "print(annot[~has_cb_type & ~is_hb_matched & ~is_new_dn].type_combined.nunique())\n",
    "\n",
    "print(\"Number of de-novo cell types based on just FlyWire left and right:\")\n",
    "# i.e. for how many final cell types do we have that are based on just two\n",
    "# hemispheres\n",
    "print(annot[(has_cb_type | is_new_dn) & ~is_hb_matched].type_combined.nunique())\n",
    "\n",
    "print(\n",
    "    \"Number of de-novo cell types based on FlyWire left + right and untyped hemibrain fragment:\"\n",
    ")\n",
    "# i.e. for how many final cell types do we have that include a previously untyped\n",
    "# (fragment of) a hemibrain neuron\n",
    "print(annot[(has_cb_type | is_new_dn) & is_hb_matched].nunique().shape[0])"
   ]
  },
  {
   "cell_type": "code",
   "execution_count": 17,
   "metadata": {},
   "outputs": [],
   "source": [
    "# How many hemibrain cell types did we manage to match?\n",
    "# Keep in mind that hemibrain_type contains merges such as \"SIP078,SIP080\"\n",
    "# Here, we unpack them into ['SIP078', 'SIP080', ...]\n",
    "matched_types = np.unique(\n",
    "    [\n",
    "        c.strip()\n",
    "        for l in annot[annot.hemibrain_type.notnull()].hemibrain_type.unique()\n",
    "        for c in l.split(\",\")\n",
    "    ]\n",
    ")\n",
    "\n",
    "# Load the hemibrain meta data we compiled\n",
    "# Each row in this file is a hemibrain neuron\n",
    "hb_meta = pd.read_csv(\"../supplemental_files/Supplemental_file5_hemibrain_meta.csv\")\n",
    "\n",
    "# `matched_types` contains a mix of mostly morphology types but also a few connectivity types\n",
    "hb_meta[\"found\"] = hb_meta.type.isin(matched_types) | hb_meta.morphology_type.isin(\n",
    "    matched_types\n",
    ")"
   ]
  },
  {
   "cell_type": "code",
   "execution_count": 20,
   "metadata": {},
   "outputs": [
    {
     "name": "stdout",
     "output_type": "stream",
     "text": [
      "Number of hemibrain types found in FlyWire:\n",
      "3,539 of 5,235 (67.6%)\n",
      "Number of neurons for which we have corresponding labels in hemibrain and in FlyWire:\n",
      "47,176\n"
     ]
    }
   ],
   "source": [
    "hb_types = hb_meta[hb_meta.type.notnull()].drop_duplicates(\"morphology_type\")\n",
    "print(\"Number of hemibrain types found in FlyWire:\")\n",
    "print(\n",
    "    f\"{hb_types.found.sum():,} of {hb_types.shape[0]:,} ({hb_types.found.sum() / hb_types.shape[0]:.1%})\"\n",
    ")\n",
    "\n",
    "print(\n",
    "    \"Number of neurons for which we have corresponding labels in hemibrain and in FlyWire:\"\n",
    ")\n",
    "print(\n",
    "    f\"{hb_meta.found.sum() + annot[annot.hemibrain_type.notnull() & annot.type_combined.notnull()].shape[0]:,}\"\n",
    ")"
   ]
  },
  {
   "cell_type": "code",
   "execution_count": 21,
   "metadata": {},
   "outputs": [
    {
     "name": "stdout",
     "output_type": "stream",
     "text": [
      "Number of hemibrain connectivity types found in FlyWire:\n",
      "38 of 258 (14.7%)\n"
     ]
    }
   ],
   "source": [
    "# How often have we been able to map down to the connectivity-type level?\n",
    "hb_cn_types = hb_types[hb_types.type != hb_types.morphology_type]\n",
    "print(\"Number of hemibrain connectivity types found in FlyWire:\")\n",
    "print(\n",
    "    f\"{hb_cn_types.type.isin(matched_types).sum()} of {hb_cn_types.shape[0]} ({hb_cn_types.type.isin(matched_types).sum() / hb_cn_types.shape[0]:.1%})\"\n",
    ")"
   ]
  },
  {
   "cell_type": "code",
   "execution_count": 22,
   "metadata": {},
   "outputs": [
    {
     "name": "stdout",
     "output_type": "stream",
     "text": [
      "Number of types representing merges of two or more hemibrain types (many:1):\n",
      "195 (5.6%)\n"
     ]
    }
   ],
   "source": [
    "print(\"Number of types representing merges of two or more hemibrain types (many:1):\")\n",
    "merges = annot[\n",
    "    annot.hemibrain_type.str.contains(\",\", na=False)\n",
    "    & ~annot.hemibrain_type.str.contains(\"hb\", na=False)\n",
    "]\n",
    "print(\n",
    "    f\"{merges.hemibrain_type.unique().shape[0]} ({merges.hemibrain_type.unique().shape[0]/annot[annot.hemibrain_type.notnull()].hemibrain_type.unique().shape[0]:.1%})\"\n",
    ")"
   ]
  },
  {
   "cell_type": "code",
   "execution_count": 23,
   "metadata": {},
   "outputs": [
    {
     "name": "stdout",
     "output_type": "stream",
     "text": [
      "Number of hemibrain types contained in those many:1 cell types:\n",
      "451 (12.0% of all matched hemibrain types)\n"
     ]
    }
   ],
   "source": [
    "print(\"Number of hemibrain types contained in those many:1 cell types:\")\n",
    "in_merge = np.unique(\n",
    "    [t.strip() for l in merges.hemibrain_type.unique() for t in l.split(\",\")]\n",
    ")\n",
    "print(\n",
    "    f\"{in_merge.shape[0]} ({in_merge.shape[0] / matched_types.shape[0]:.1%} of all matched hemibrain types)\"\n",
    ")"
   ]
  },
  {
   "cell_type": "code",
   "execution_count": 24,
   "metadata": {},
   "outputs": [
    {
     "name": "stdout",
     "output_type": "stream",
     "text": [
      "Number of hemibrain types that were split (1:many):\n",
      "234\n"
     ]
    }
   ],
   "source": [
    "# Find cases where we further split the hemibrain type\n",
    "splits = np.unique(\n",
    "    [\n",
    "        v\n",
    "        for l in annot.loc[\n",
    "            annot.hemibrain_type.notnull()  # needs to have a hemibrain type\n",
    "            & annot.cell_type.notnull()  # needs to have a cell type\n",
    "            & ~annot.cell_type.str.contains(\n",
    "                \",\", na=False\n",
    "            )  # cell type must not be compound type\n",
    "            & ~annot.hemibrain_type.str.contains(\n",
    "                \"hb\", na=False\n",
    "            )  # hemibrain type must not be untyped neurons\n",
    "            & np.array(\n",
    "                [\n",
    "                    b in a\n",
    "                    for a, b in zip(\n",
    "                        annot.cell_type.fillna(\"\").values,\n",
    "                        annot.hemibrain_type.fillna(\"\").values,\n",
    "                    )\n",
    "                ]\n",
    "            )  # hemibrain type must be in cell type (e.g. \"SMP001\" -> \"SMP001a\")\n",
    "            & (\n",
    "                annot.cell_type != annot.hemibrain_type\n",
    "            ),  # cell and hemibrain type must not be the same\n",
    "            \"hemibrain_type\",\n",
    "        ].unique()\n",
    "        for v in l.split(\",\")\n",
    "    ]\n",
    ")\n",
    "was_split = (\n",
    "    hb_meta[hb_meta.type.isin(splits) | hb_meta.morphology_type.isin(splits)]\n",
    "    .drop_duplicates(\"type\")\n",
    "    .copy()\n",
    ")\n",
    "split_dict = (\n",
    "    annot[annot.cell_type.notnull()]\n",
    "    .groupby(\"hemibrain_type\")\n",
    "    .cell_type.apply(lambda x: \",\".join(list(set(x))))\n",
    ")\n",
    "was_split[\"fw_type\"] = was_split.type.map(split_dict)\n",
    "\n",
    "print(\"Number of hemibrain types that were split (1:many):\")\n",
    "print(was_split.shape[0])"
   ]
  },
  {
   "cell_type": "markdown",
   "metadata": {},
   "source": [
    "We hope the above gave you an overview of the annotations provided. Please \n",
    "also see the [tutorials](https://fafbseg-py.readthedocs.io/en/latest/source/gallery.html)\n",
    "on annotations for `fafbseg`."
   ]
  }
 ],
 "metadata": {
  "kernelspec": {
   "display_name": "Python 3",
   "language": "python",
   "name": "python3"
  },
  "language_info": {
   "codemirror_mode": {
    "name": "ipython",
    "version": 3
   },
   "file_extension": ".py",
   "mimetype": "text/x-python",
   "name": "python",
   "nbconvert_exporter": "python",
   "pygments_lexer": "ipython3",
   "version": "3.9.9"
  },
  "orig_nbformat": 4
 },
 "nbformat": 4,
 "nbformat_minor": 2
}
