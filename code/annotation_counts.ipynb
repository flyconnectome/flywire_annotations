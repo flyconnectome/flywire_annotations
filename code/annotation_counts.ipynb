{
 "cells": [
  {
   "attachments": {},
   "cell_type": "markdown",
   "metadata": {},
   "source": [
    "# Annotation counts\n",
    "In this notebook we will compile some of the numbers reported in Schlegel _et al._ (2023) straight from the data dump."
   ]
  },
  {
   "cell_type": "code",
   "execution_count": 1,
   "metadata": {},
   "outputs": [
    {
     "data": {
      "text/html": [
       "<div>\n",
       "<style scoped>\n",
       "    .dataframe tbody tr th:only-of-type {\n",
       "        vertical-align: middle;\n",
       "    }\n",
       "\n",
       "    .dataframe tbody tr th {\n",
       "        vertical-align: top;\n",
       "    }\n",
       "\n",
       "    .dataframe thead th {\n",
       "        text-align: right;\n",
       "    }\n",
       "</style>\n",
       "<table border=\"1\" class=\"dataframe\">\n",
       "  <thead>\n",
       "    <tr style=\"text-align: right;\">\n",
       "      <th></th>\n",
       "      <th>supervoxel_id</th>\n",
       "      <th>root_id</th>\n",
       "      <th>pos_x</th>\n",
       "      <th>pos_y</th>\n",
       "      <th>pos_z</th>\n",
       "      <th>soma_x</th>\n",
       "      <th>soma_y</th>\n",
       "      <th>soma_z</th>\n",
       "      <th>nucleus_id</th>\n",
       "      <th>flow</th>\n",
       "      <th>...</th>\n",
       "      <th>hemibrain_type</th>\n",
       "      <th>ito_lee_hemilineage</th>\n",
       "      <th>hartenstein_hemilineage</th>\n",
       "      <th>morphology_group</th>\n",
       "      <th>top_nt</th>\n",
       "      <th>top_nt_conf</th>\n",
       "      <th>side</th>\n",
       "      <th>nerve</th>\n",
       "      <th>fbbt_id</th>\n",
       "      <th>status</th>\n",
       "    </tr>\n",
       "  </thead>\n",
       "  <tbody>\n",
       "    <tr>\n",
       "      <th>0</th>\n",
       "      <td>78112261444987077</td>\n",
       "      <td>720575940628857210</td>\n",
       "      <td>109306</td>\n",
       "      <td>50491</td>\n",
       "      <td>3960</td>\n",
       "      <td>104904.0</td>\n",
       "      <td>47464.0</td>\n",
       "      <td>5461.0</td>\n",
       "      <td>2453924.0</td>\n",
       "      <td>intrinsic</td>\n",
       "      <td>...</td>\n",
       "      <td>PS180</td>\n",
       "      <td>SMPpv2_ventral</td>\n",
       "      <td>CP1_ventral</td>\n",
       "      <td>SMPpv2_ventral_3</td>\n",
       "      <td>acetylcholine</td>\n",
       "      <td>0.914499</td>\n",
       "      <td>left</td>\n",
       "      <td>NaN</td>\n",
       "      <td>FBbt_20001935</td>\n",
       "      <td>NaN</td>\n",
       "    </tr>\n",
       "    <tr>\n",
       "      <th>1</th>\n",
       "      <td>82475466912542440</td>\n",
       "      <td>720575940626838909</td>\n",
       "      <td>172029</td>\n",
       "      <td>55635</td>\n",
       "      <td>1592</td>\n",
       "      <td>177472.0</td>\n",
       "      <td>56936.0</td>\n",
       "      <td>1429.0</td>\n",
       "      <td>7393349.0</td>\n",
       "      <td>intrinsic</td>\n",
       "      <td>...</td>\n",
       "      <td>NaN</td>\n",
       "      <td>VLPl2_medial</td>\n",
       "      <td>BLAv2_medial</td>\n",
       "      <td>VLPl2_medial_1</td>\n",
       "      <td>acetylcholine</td>\n",
       "      <td>0.638088</td>\n",
       "      <td>right</td>\n",
       "      <td>NaN</td>\n",
       "      <td>NaN</td>\n",
       "      <td>NaN</td>\n",
       "    </tr>\n",
       "    <tr>\n",
       "      <th>2</th>\n",
       "      <td>83038623024880664</td>\n",
       "      <td>720575940626046919</td>\n",
       "      <td>180632</td>\n",
       "      <td>58664</td>\n",
       "      <td>1925</td>\n",
       "      <td>180632.0</td>\n",
       "      <td>58664.0</td>\n",
       "      <td>1925.0</td>\n",
       "      <td>7415038.0</td>\n",
       "      <td>intrinsic</td>\n",
       "      <td>...</td>\n",
       "      <td>AVLP429</td>\n",
       "      <td>NaN</td>\n",
       "      <td>NaN</td>\n",
       "      <td>NaN</td>\n",
       "      <td>acetylcholine</td>\n",
       "      <td>0.838454</td>\n",
       "      <td>right</td>\n",
       "      <td>NaN</td>\n",
       "      <td>FBbt_20000538</td>\n",
       "      <td>NaN</td>\n",
       "    </tr>\n",
       "    <tr>\n",
       "      <th>3</th>\n",
       "      <td>79801523353604463</td>\n",
       "      <td>720575940630311383</td>\n",
       "      <td>133800</td>\n",
       "      <td>56063</td>\n",
       "      <td>1847</td>\n",
       "      <td>180728.0</td>\n",
       "      <td>61008.0</td>\n",
       "      <td>1630.0</td>\n",
       "      <td>7415013.0</td>\n",
       "      <td>intrinsic</td>\n",
       "      <td>...</td>\n",
       "      <td>AVLP151</td>\n",
       "      <td>putative_primary</td>\n",
       "      <td>putative_primary</td>\n",
       "      <td>NaN</td>\n",
       "      <td>acetylcholine</td>\n",
       "      <td>0.755116</td>\n",
       "      <td>right</td>\n",
       "      <td>NaN</td>\n",
       "      <td>FBbt_20000260</td>\n",
       "      <td>NaN</td>\n",
       "    </tr>\n",
       "    <tr>\n",
       "      <th>4</th>\n",
       "      <td>83038554439606237</td>\n",
       "      <td>720575940633370649</td>\n",
       "      <td>180496</td>\n",
       "      <td>57448</td>\n",
       "      <td>2989</td>\n",
       "      <td>180496.0</td>\n",
       "      <td>57448.0</td>\n",
       "      <td>2989.0</td>\n",
       "      <td>7415848.0</td>\n",
       "      <td>intrinsic</td>\n",
       "      <td>...</td>\n",
       "      <td>LC27</td>\n",
       "      <td>NaN</td>\n",
       "      <td>NaN</td>\n",
       "      <td>NaN</td>\n",
       "      <td>acetylcholine</td>\n",
       "      <td>0.886547</td>\n",
       "      <td>right</td>\n",
       "      <td>NaN</td>\n",
       "      <td>FBbt_00051248</td>\n",
       "      <td>NaN</td>\n",
       "    </tr>\n",
       "  </tbody>\n",
       "</table>\n",
       "<p>5 rows × 24 columns</p>\n",
       "</div>"
      ],
      "text/plain": [
       "       supervoxel_id             root_id   pos_x  pos_y  pos_z    soma_x  \\\n",
       "0  78112261444987077  720575940628857210  109306  50491   3960  104904.0   \n",
       "1  82475466912542440  720575940626838909  172029  55635   1592  177472.0   \n",
       "2  83038623024880664  720575940626046919  180632  58664   1925  180632.0   \n",
       "3  79801523353604463  720575940630311383  133800  56063   1847  180728.0   \n",
       "4  83038554439606237  720575940633370649  180496  57448   2989  180496.0   \n",
       "\n",
       "    soma_y  soma_z  nucleus_id       flow  ... hemibrain_type  \\\n",
       "0  47464.0  5461.0   2453924.0  intrinsic  ...          PS180   \n",
       "1  56936.0  1429.0   7393349.0  intrinsic  ...            NaN   \n",
       "2  58664.0  1925.0   7415038.0  intrinsic  ...        AVLP429   \n",
       "3  61008.0  1630.0   7415013.0  intrinsic  ...        AVLP151   \n",
       "4  57448.0  2989.0   7415848.0  intrinsic  ...           LC27   \n",
       "\n",
       "  ito_lee_hemilineage hartenstein_hemilineage  morphology_group  \\\n",
       "0      SMPpv2_ventral             CP1_ventral  SMPpv2_ventral_3   \n",
       "1        VLPl2_medial            BLAv2_medial    VLPl2_medial_1   \n",
       "2                 NaN                     NaN               NaN   \n",
       "3    putative_primary        putative_primary               NaN   \n",
       "4                 NaN                     NaN               NaN   \n",
       "\n",
       "          top_nt top_nt_conf   side nerve        fbbt_id  status  \n",
       "0  acetylcholine    0.914499   left   NaN  FBbt_20001935     NaN  \n",
       "1  acetylcholine    0.638088  right   NaN            NaN     NaN  \n",
       "2  acetylcholine    0.838454  right   NaN  FBbt_20000538     NaN  \n",
       "3  acetylcholine    0.755116  right   NaN  FBbt_20000260     NaN  \n",
       "4  acetylcholine    0.886547  right   NaN  FBbt_00051248     NaN  \n",
       "\n",
       "[5 rows x 24 columns]"
      ]
     },
     "execution_count": 1,
     "metadata": {},
     "output_type": "execute_result"
    }
   ],
   "source": [
    "import pandas as pd\n",
    "import numpy as np\n",
    "\n",
    "# Read the annotation dump\n",
    "annot = pd.read_csv(\n",
    "    \"../supplemental_files/Supplemental_file1_annotations.tsv\",\n",
    "    sep=\"\\t\",  # it's a tab-separated file\n",
    "    low_memory=False,  # this is just to avoid a datatype warning\n",
    ")\n",
    "annot.head()"
   ]
  },
  {
   "attachments": {},
   "cell_type": "markdown",
   "metadata": {},
   "source": [
    "Some overall stats:"
   ]
  },
  {
   "cell_type": "code",
   "execution_count": null,
   "metadata": {},
   "outputs": [],
   "source": []
  },
  {
   "cell_type": "code",
   "execution_count": 2,
   "metadata": {},
   "outputs": [
    {
     "name": "stdout",
     "output_type": "stream",
     "text": [
      "Number of neurons:\n",
      "127978\n"
     ]
    }
   ],
   "source": [
    "print(\"Number of neurons:\")\n",
    "print(annot[(annot.super_class != \"not_a_neuron\")].shape[0])"
   ]
  },
  {
   "cell_type": "code",
   "execution_count": 3,
   "metadata": {},
   "outputs": [
    {
     "name": "stdout",
     "output_type": "stream",
     "text": [
      "A breakdown by superclass:\n",
      "optic                 73656\n",
      "central               32422\n",
      "sensory                9708\n",
      "visual_projection      7851\n",
      "ascending              2364\n",
      "descending             1303\n",
      "not_a_neuron            846\n",
      "visual_centrifugal      494\n",
      "motor                   100\n",
      "endocrine                80\n",
      "Name: super_class, dtype: int64\n"
     ]
    }
   ],
   "source": [
    "print(\"A breakdown by superclass:\")\n",
    "print(annot.super_class.value_counts())"
   ]
  },
  {
   "cell_type": "code",
   "execution_count": 4,
   "metadata": {},
   "outputs": [
    {
     "name": "stdout",
     "output_type": "stream",
     "text": [
      "Sensory neurons in the central brain (i.e. excluding photoreceptor neurons):\n",
      "5495\n"
     ]
    }
   ],
   "source": [
    "print(\"Sensory neurons in the central brain (i.e. excluding photoreceptor neurons):\")\n",
    "print(annot[(annot.super_class == \"sensory\") & (annot.cell_class != \"visual\")].shape[0])"
   ]
  },
  {
   "cell_type": "code",
   "execution_count": 5,
   "metadata": {},
   "outputs": [
    {
     "name": "stdout",
     "output_type": "stream",
     "text": [
      "The number of total annotations across all neurons:\n",
      "726397\n"
     ]
    }
   ],
   "source": [
    "print(\"The number of total annotations across all neurons:\")\n",
    "print(\n",
    "    annot[\n",
    "        [\n",
    "            \"flow\",\n",
    "            \"super_class\",\n",
    "            \"cell_class\",\n",
    "            \"cell_sub_class\",\n",
    "            \"cell_type\",\n",
    "            \"hemibrain_type\",\n",
    "            \"side\",\n",
    "            \"nerve\",\n",
    "            \"ito_lee_hemilineage\",\n",
    "            \"morphology_group\",\n",
    "            \"soma_x\",  # whether a soma position has been recorded\n",
    "        ]\n",
    "    ]\n",
    "    .notnull()\n",
    "    .sum()\n",
    "    .sum()\n",
    ")"
   ]
  },
  {
   "cell_type": "code",
   "execution_count": 6,
   "metadata": {},
   "outputs": [
    {
     "name": "stdout",
     "output_type": "stream",
     "text": [
      "The number of total annotations per field:\n",
      "flow                   127979\n",
      "super_class            128824\n",
      "cell_class              98518\n",
      "cell_sub_class           6667\n",
      "cell_type               18602\n",
      "hemibrain_type          26421\n",
      "side                   128822\n",
      "nerve                    9611\n",
      "ito_lee_hemilineage     36546\n",
      "morphology_group        28011\n",
      "dtype: int64\n"
     ]
    }
   ],
   "source": [
    "print(\"The number of total annotations per field:\")\n",
    "print(\n",
    "    annot[\n",
    "        [\n",
    "            \"flow\",\n",
    "            \"super_class\",\n",
    "            \"cell_class\",\n",
    "            \"cell_sub_class\",\n",
    "            \"cell_type\",\n",
    "            \"hemibrain_type\",\n",
    "            \"side\",\n",
    "            \"nerve\",\n",
    "            \"ito_lee_hemilineage\",\n",
    "            \"morphology_group\",\n",
    "        ]\n",
    "    ]\n",
    "    .notnull()\n",
    "    .sum()\n",
    ")"
   ]
  },
  {
   "attachments": {},
   "cell_type": "markdown",
   "metadata": {},
   "source": [
    "Stats on cell types"
   ]
  },
  {
   "cell_type": "code",
   "execution_count": 7,
   "metadata": {},
   "outputs": [
    {
     "name": "stdout",
     "output_type": "stream",
     "text": [
      "Number of neurons with a cell type:\n",
      "40950 of 128824 (31.8%)\n"
     ]
    }
   ],
   "source": [
    "# Add a column where we backfill cell type with hemibrain type\n",
    "# (i.e. `cell_type` is considered to be the \"final\" type)\n",
    "annot[\"type_combined\"] = annot.cell_type\n",
    "annot.loc[annot.type_combined.isnull(), \"type_combined\"] = annot.loc[\n",
    "    annot.type_combined.isnull(), \"hemibrain_type\"\n",
    "]\n",
    "\n",
    "print(\"Number of neurons with a cell type:\")\n",
    "print(\n",
    "    f\"{annot.type_combined.notnull().sum()} of {annot.shape[0]} ({annot.type_combined.notnull().sum()/annot.shape[0]:.1%})\"\n",
    ")"
   ]
  },
  {
   "cell_type": "code",
   "execution_count": 8,
   "metadata": {},
   "outputs": [
    {
     "name": "stdout",
     "output_type": "stream",
     "text": [
      "Number of central brain neurons with a cell type:\n",
      "31129 of 50109 (62.1%)\n"
     ]
    }
   ],
   "source": [
    "# Subset to all neurons with arbour in the central brain\n",
    "cent = annot[\n",
    "    annot.super_class.isin(\n",
    "        (\n",
    "            \"central\",\n",
    "            \"descending\",\n",
    "            \"motor\",\n",
    "            \"endocrine\",\n",
    "            \"sensory\",\n",
    "            \"ascending\",\n",
    "            \"visual_projection\",\n",
    "            \"visual_centrifugal\",\n",
    "        )\n",
    "    )\n",
    "    & (\n",
    "        annot.cell_class != \"visual\"\n",
    "    )  # we included all sensory abobve but must exclude visual sensory\n",
    "]\n",
    "print(\"Number of central brain neurons with a cell type:\")\n",
    "print(\n",
    "    f\"{cent.type_combined.notnull().sum()} of {cent.shape[0]} ({cent.type_combined.notnull().sum()/cent.shape[0]:.1%})\"\n",
    ")"
   ]
  },
  {
   "cell_type": "code",
   "execution_count": 9,
   "metadata": {},
   "outputs": [
    {
     "name": "stdout",
     "output_type": "stream",
     "text": [
      "Number of central brain-intrinsic neurons with a cell type:\n",
      "19667 of 34399 (57.2%)\n"
     ]
    }
   ],
   "source": [
    "# Subset to all neurons intrinsic to the central brain\n",
    "cent_int = annot[\n",
    "    annot.super_class.isin(\n",
    "        (\n",
    "            \"central\",\n",
    "            \"descending\",\n",
    "            \"motor\",\n",
    "            \"endocrine\",\n",
    "            \"visual_centrifugal\",\n",
    "        )\n",
    "    )\n",
    "    & (annot.cell_class != \"visual\")\n",
    "]\n",
    "print(\"Number of central brain-intrinsic neurons with a cell type:\")\n",
    "print(\n",
    "    f\"{cent_int.type_combined.notnull().sum()} of {cent_int.shape[0]} ({cent_int.type_combined.notnull().sum()/cent_int.shape[0]:.1%})\"\n",
    ")"
   ]
  },
  {
   "cell_type": "code",
   "execution_count": 10,
   "metadata": {},
   "outputs": [
    {
     "name": "stdout",
     "output_type": "stream",
     "text": [
      "Total number of unique cell types:\n",
      "4179\n"
     ]
    }
   ],
   "source": [
    "print(\"Total number of unique cell types:\")\n",
    "print(annot.type_combined.unique().shape[0])"
   ]
  },
  {
   "cell_type": "code",
   "execution_count": 11,
   "metadata": {},
   "outputs": [
    {
     "name": "stdout",
     "output_type": "stream",
     "text": [
      "Number of cell types based on three hemispheres worth of data (high confidence):\n",
      "3166\n",
      "Number of FlyWire neurons with cell types based on three hemispheres worth of data:\n",
      "26421\n"
     ]
    }
   ],
   "source": [
    "print(\n",
    "    \"Number of cell types based on three hemispheres worth of data (high confidence):\"\n",
    ")\n",
    "# i.e. for how many final cell types do we have that are based on three\n",
    "# hemispheres\n",
    "print(\n",
    "    annot[annot.hemibrain_type.notnull() & annot.type_combined.notnull()]\n",
    "    .type_combined.unique()\n",
    "    .shape[0]\n",
    ")\n",
    "\n",
    "print(\n",
    "    \"Number of FlyWire neurons with cell types based on three hemispheres worth of data:\"\n",
    ")\n",
    "print(annot[annot.hemibrain_type.notnull() & annot.type_combined.notnull()].shape[0])"
   ]
  },
  {
   "cell_type": "code",
   "execution_count": 12,
   "metadata": {},
   "outputs": [
    {
     "name": "stdout",
     "output_type": "stream",
     "text": [
      "Number of cell types based on just FlyWire left and right:\n",
      "850\n"
     ]
    }
   ],
   "source": [
    "print(\"Number of cell types based on just FlyWire left and right:\")\n",
    "# i.e. for how many final cell types do we have that are based on three\n",
    "# hemispheres\n",
    "is_new_dn = (  # find new DNs that have no match in the hemibrain\n",
    "    (annot.super_class == \"descending\")\n",
    "    & annot.cell_type.str.contains(\"DN[a-z]e.*?\", regex=True, na=False)\n",
    "    & annot.hemibrain_type.isnull()\n",
    ")\n",
    "print(\n",
    "    annot[annot.cell_type.str.startswith(\"CB\", na=False) | is_new_dn]\n",
    "    .type_combined.unique()\n",
    "    .shape[0]\n",
    ")"
   ]
  },
  {
   "cell_type": "code",
   "execution_count": 13,
   "metadata": {},
   "outputs": [],
   "source": [
    "# How many hemibrain cell types did we manage to match?\n",
    "# Keep in mind that hemibrain_type contains merges such as \"SIP078,SIP080\"\n",
    "matched_types = np.unique(\n",
    "    [\n",
    "        c.strip()\n",
    "        for l in annot[annot.hemibrain_type.notnull()].hemibrain_type.unique()\n",
    "        for c in l.split(\",\")\n",
    "    ]\n",
    ")\n",
    "\n",
    "# Load the hemibrain meta data we compiled\n",
    "# Each row in this file is a hemibrain neuron\n",
    "hb_meta = pd.read_csv(\"../supplemental_files/Supplemental_file4_hemibrain_meta.csv\")\n",
    "\n",
    "# `matched_types` contains a mix of mostly morphology types but also a few connectivity types\n",
    "hb_meta[\"found\"] = hb_meta.type.isin(matched_types) | hb_meta.morphology_type.isin(\n",
    "    matched_types\n",
    ")"
   ]
  },
  {
   "cell_type": "code",
   "execution_count": 14,
   "metadata": {},
   "outputs": [
    {
     "name": "stdout",
     "output_type": "stream",
     "text": [
      "Number of hemibrain types found in Flywire:\n",
      "3237 of 5620 (57.6%)\n",
      "Number of hemibrain neurons for which we found types in Flywire:\n",
      "42687\n"
     ]
    }
   ],
   "source": [
    "hb_types = hb_meta[hb_meta.type.notnull()].drop_duplicates(\"type\")\n",
    "print(\"Number of hemibrain types found in Flywire:\")\n",
    "print(\n",
    "    f\"{hb_types.found.sum()} of {hb_types.shape[0]} ({hb_types.found.sum() / hb_types.shape[0]:.1%})\"\n",
    ")\n",
    "\n",
    "print(\"Number of hemibrain neurons for which we found types in Flywire:\")\n",
    "print(\n",
    "    hb_meta.found.sum()\n",
    "    + annot[annot.hemibrain_type.notnull() & annot.type_combined.notnull()].shape[0]\n",
    ")"
   ]
  },
  {
   "cell_type": "code",
   "execution_count": 15,
   "metadata": {},
   "outputs": [
    {
     "name": "stdout",
     "output_type": "stream",
     "text": [
      "Number of hemibrain connectivity types found in FlyWire:\n",
      "12 of 639 (1.9%)\n"
     ]
    }
   ],
   "source": [
    "# How often have we been able to map down to the connectivity-type level?\n",
    "hb_cn_types = hb_types[hb_types.type != hb_types.morphology_type]\n",
    "print(\"Number of hemibrain connectivity types found in FlyWire:\")\n",
    "print(\n",
    "    f\"{hb_cn_types.type.isin(matched_types).sum()} of {hb_cn_types.shape[0]} ({hb_cn_types.type.isin(matched_types).sum() / hb_cn_types.shape[0]:.1%})\"\n",
    ")"
   ]
  },
  {
   "cell_type": "code",
   "execution_count": 16,
   "metadata": {},
   "outputs": [
    {
     "name": "stdout",
     "output_type": "stream",
     "text": [
      "Number of types representing merges of two or more hemibrain types:\n",
      "118 (3.9%)\n"
     ]
    }
   ],
   "source": [
    "print(\"Number of types representing merges of two or more hemibrain types:\")\n",
    "merges = annot[\n",
    "    annot.hemibrain_type.str.contains(\",\", na=False)\n",
    "    & ~annot.hemibrain_type.str.contains(\"hb\", na=False)\n",
    "]\n",
    "print(\n",
    "    f\"{merges.hemibrain_type.unique().shape[0]} ({merges.hemibrain_type.unique().shape[0]/annot[annot.hemibrain_type.notnull()].hemibrain_type.unique().shape[0]:.1%})\"\n",
    ")"
   ]
  },
  {
   "cell_type": "code",
   "execution_count": 17,
   "metadata": {},
   "outputs": [
    {
     "name": "stdout",
     "output_type": "stream",
     "text": [
      "Number of hemibrain types contained in those merged cell types:\n",
      "295 (9.1% of all matched hemibrain types)\n"
     ]
    }
   ],
   "source": [
    "print(\"Number of hemibrain types contained in those merged cell types:\")\n",
    "in_merge = np.unique(\n",
    "    [t.strip() for l in merges.hemibrain_type.unique() for t in l.split(\",\")]\n",
    ")\n",
    "print(\n",
    "    f\"{in_merge.shape[0]} ({in_merge.shape[0] / matched_types.shape[0]:.1%} of all matched hemibrain types)\"\n",
    ")"
   ]
  }
 ],
 "metadata": {
  "kernelspec": {
   "display_name": "Python 3",
   "language": "python",
   "name": "python3"
  },
  "language_info": {
   "codemirror_mode": {
    "name": "ipython",
    "version": 3
   },
   "file_extension": ".py",
   "mimetype": "text/x-python",
   "name": "python",
   "nbconvert_exporter": "python",
   "pygments_lexer": "ipython3",
   "version": "3.9.9"
  },
  "orig_nbformat": 4
 },
 "nbformat": 4,
 "nbformat_minor": 2
}
